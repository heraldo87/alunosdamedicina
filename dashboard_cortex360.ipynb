{
 "cells": [
  {
   "cell_type": "markdown",
   "id": "798a9dbf-90b4-408f-bf59-8e4b1c24ad00",
   "metadata": {},
   "source": [
    "# DASBOARD COHIDRO"
   ]
  },
  {
   "cell_type": "markdown",
   "id": "c8acac95-ffbd-49b8-b934-3e00f03232ef",
   "metadata": {},
   "source": [
    "## SERVIDOR STREAMLIT"
   ]
  },
  {
   "cell_type": "code",
   "execution_count": 1,
   "id": "05b25798-c7cb-43cd-abb7-0d53578f6083",
   "metadata": {},
   "outputs": [],
   "source": [
    "# DEPENDÊNCIAS\n",
    "# %pip install streamlit\n",
    "# %pip install lxml\n",
    "# %pip install jupyter-server-proxy\n",
    "# %pip install sqlalchemy "
   ]
  },
  {
   "cell_type": "code",
   "execution_count": 124,
   "id": "aa5a2b21-fe57-4e16-b90b-ffd8b23a0c33",
   "metadata": {},
   "outputs": [
    {
     "name": "stdout",
     "output_type": "stream",
     "text": [
      "Overwriting app.py\n"
     ]
    }
   ],
   "source": [
    "%%writefile app.py\n",
    "import pandas as pd\n",
    "from sqlalchemy import create_engine\n",
    "import streamlit as st\n",
    "import altair as alt\n",
    "\n",
    "# --- CONFIG BANCO ---\n",
    "user = \"cortex360\"\n",
    "password = \"Cortex360Vini\"\n",
    "host = \"localhost\"\n",
    "database = \"cortex360\"\n",
    "\n",
    "engine = create_engine(f\"mysql+pymysql://{user}:{password}@{host}/{database}\")\n",
    "\n",
    "# --- DASHBOARD ---\n",
    "st.title(\"COHIDRO DASHBOARD\")\n",
    "st.write(\"Dados de Acompanhamento de Atividades\")\n",
    "\n",
    "# --- BUSCA DADOS ---\n",
    "df_acompanhamento_atividades = pd.read_sql(\"SELECT * FROM acompanhamento_atividades\", engine)\n",
    "\n",
    "# Converte data/hora para apenas data\n",
    "df_acompanhamento_atividades['data_registro'] = pd.to_datetime(\n",
    "    df_acompanhamento_atividades['data_registro']\n",
    ").dt.date\n",
    "\n",
    "# --- FILTRO POR COLABORADOR ---\n",
    "nomes = df_acompanhamento_atividades[\"nome\"].unique()\n",
    "nome_selecionado = st.selectbox(\"Filtrar por colaborador:\", [\"Todos\"] + list(nomes))\n",
    "\n",
    "if nome_selecionado != \"Todos\":\n",
    "    df_filtrado = df_acompanhamento_atividades[df_acompanhamento_atividades[\"nome\"] == nome_selecionado]\n",
    "else:\n",
    "    df_filtrado = df_acompanhamento_atividades\n",
    "\n",
    "# --- MOSTRA TABELA FILTRADA ---\n",
    "st.dataframe(df_filtrado, use_container_width=True)\n",
    "\n",
    "# --- GRÁFICO DE REGISTROS POR DIA (com filtro aplicado) ---\n",
    "st.subheader(\"Registros por Dia\")\n",
    "\n",
    "contagem_por_dia = df_filtrado['data_registro'].value_counts().sort_index()\n",
    "df_plot = contagem_por_dia.reset_index()\n",
    "df_plot.columns = [\"data\", \"quantidade\"]\n",
    "\n",
    "chart = (\n",
    "    alt.Chart(df_plot)\n",
    "    .mark_bar(size=30)  # <<< espessura das barras\n",
    "    .encode(\n",
    "        x=alt.X(\"data:T\", title=\"Data\"),\n",
    "        y=alt.Y(\"quantidade:Q\", title=\"Quantidade de Registros\"),\n",
    "        tooltip=[\"data\", \"quantidade\"]\n",
    "    )\n",
    ")\n",
    "\n",
    "st.altair_chart(chart, use_container_width=True)"
   ]
  },
  {
   "cell_type": "code",
   "execution_count": 1,
   "id": "3761d355-4633-4f6d-b930-cb252a842ea3",
   "metadata": {},
   "outputs": [
    {
     "data": {
      "text/plain": [
       "<Popen: returncode: None args: ['/www/server/panel/pyenv/bin/python3.12', '-...>"
      ]
     },
     "execution_count": 1,
     "metadata": {},
     "output_type": "execute_result"
    },
    {
     "name": "stdout",
     "output_type": "stream",
     "text": [
      "\n",
      "Collecting usage statistics. To deactivate, set browser.gatherUsageStats to false.\n",
      "\n",
      "\n",
      "  You can now view your Streamlit app in your browser.\n",
      "\n",
      "  URL: http://181.215.135.63:8501\n",
      "\n"
     ]
    }
   ],
   "source": [
    "import sys, subprocess\n",
    "\n",
    "subprocess.Popen([\n",
    "    sys.executable, \"-m\", \"streamlit\", \"run\", \"app.py\",\n",
    "    \"--server.port=8501\",\n",
    "    \"--server.address=181.215.135.63\",\n",
    "    \"--server.enableXsrfProtection=False\"\n",
    "])"
   ]
  },
  {
   "cell_type": "markdown",
   "id": "71185337-a5ec-408e-8d77-4a6bd8712d46",
   "metadata": {},
   "source": [
    "## TRATAMENTO DE DADOS"
   ]
  },
  {
   "cell_type": "code",
   "execution_count": 97,
   "id": "829eebc4-27f6-4ca2-ae05-b2796af06db3",
   "metadata": {},
   "outputs": [],
   "source": [
    "import pandas as pd\n",
    "from sqlalchemy import create_engine\n",
    "import streamlit as st"
   ]
  },
  {
   "cell_type": "code",
   "execution_count": 98,
   "id": "33caebdc-e8e0-4035-9546-a6a2ea2bf696",
   "metadata": {},
   "outputs": [],
   "source": [
    "user = \"cortex360\"\n",
    "password = \"Cortex360Vini\"\n",
    "host = \"localhost\"   # ou \"localhost\" se for no mesmo servidor\n",
    "database = \"cortex360\""
   ]
  },
  {
   "cell_type": "code",
   "execution_count": 99,
   "id": "b12faca7-ba4a-4d54-b70b-8fcdfbd18630",
   "metadata": {},
   "outputs": [],
   "source": [
    "engine = create_engine(f\"mysql+pymysql://{user}:{password}@{host}/{database}\")"
   ]
  },
  {
   "cell_type": "code",
   "execution_count": 100,
   "id": "5a18d65f-5dbf-4ae0-819d-c63f81535fb1",
   "metadata": {},
   "outputs": [],
   "source": [
    "df_acompanhamento_atividades = pd.read_sql(\"SELECT * FROM acompanhamento_atividades\", engine)"
   ]
  },
  {
   "cell_type": "code",
   "execution_count": 101,
   "id": "186d4a9f-e7df-4285-bfcf-7971312b44c7",
   "metadata": {},
   "outputs": [],
   "source": [
    "nomes = df_acompanhamento_atividades[\"nome\"].unique()"
   ]
  },
  {
   "cell_type": "code",
   "execution_count": 102,
   "id": "57d4f4b1-b1f6-48e9-85ed-d683da61c728",
   "metadata": {},
   "outputs": [
    {
     "data": {
      "text/plain": [
       "array(['heraldo.as1@gmail.com', 'heraldas2@gmail.com',\n",
       "       'heraldo.as2@gmail.com', 'viniciuslo@gmail.com',\n",
       "       'lfaps1989@gmail.com', 'VINICIUS LEITE DE OLIVEIRA',\n",
       "       'DANIEL CARLOS DUARTE DE NEVES MANTA',\n",
       "       'ELISÂNGELA NASCIMENTO DOS SANTOS', 'LUCAS TELES CARRERA',\n",
       "       'ALEXANDRE DE SOUZA ANDRADE', 'ARILSON GIOVANI ASSUNÇÃO ALMEIDA',\n",
       "       'VALQUÍRIA ANDREA CUNHA', 'PAULO ROBERTO PATROCINIO JUNIOR'],\n",
       "      dtype=object)"
      ]
     },
     "execution_count": 102,
     "metadata": {},
     "output_type": "execute_result"
    }
   ],
   "source": [
    "#df_acompanhamento_atividades\n",
    "nomes"
   ]
  },
  {
   "cell_type": "code",
   "execution_count": 103,
   "id": "22590134-ab18-4f4c-9691-7a406e7d6e7b",
   "metadata": {},
   "outputs": [],
   "source": [
    "nomes = df[\"nome\"].unique()"
   ]
  },
  {
   "cell_type": "code",
   "execution_count": 104,
   "id": "27947448-0157-44dc-b9ff-fd203ae8109d",
   "metadata": {},
   "outputs": [
    {
     "data": {
      "text/plain": [
       "data_registro\n",
       "2025-08-18    14\n",
       "2025-08-22    13\n",
       "2025-08-24    12\n",
       "2025-08-17     2\n",
       "2025-08-23     2\n",
       "2025-08-25     1\n",
       "2025-08-26     1\n",
       "Name: count, dtype: int64"
      ]
     },
     "execution_count": 104,
     "metadata": {},
     "output_type": "execute_result"
    }
   ],
   "source": [
    "df_acompanhamento_atividades['data_registro'] = pd.to_datetime(df_acompanhamento_atividades['data_registro']).dt.date\n",
    "df_acompanhamento_atividades['data_registro'].value_counts()"
   ]
  },
  {
   "cell_type": "code",
   "execution_count": 105,
   "id": "87877cd4-0702-4ffb-9941-914568c6e97c",
   "metadata": {},
   "outputs": [
    {
     "data": {
      "text/html": [
       "<div>\n",
       "<style scoped>\n",
       "    .dataframe tbody tr th:only-of-type {\n",
       "        vertical-align: middle;\n",
       "    }\n",
       "\n",
       "    .dataframe tbody tr th {\n",
       "        vertical-align: top;\n",
       "    }\n",
       "\n",
       "    .dataframe thead th {\n",
       "        text-align: right;\n",
       "    }\n",
       "</style>\n",
       "<table border=\"1\" class=\"dataframe\">\n",
       "  <thead>\n",
       "    <tr style=\"text-align: right;\">\n",
       "      <th></th>\n",
       "      <th>id</th>\n",
       "      <th>nome</th>\n",
       "      <th>cpf</th>\n",
       "      <th>diretoria</th>\n",
       "      <th>data_inicial</th>\n",
       "      <th>data_final</th>\n",
       "      <th>atividades_realizadas</th>\n",
       "      <th>atividades_previstas</th>\n",
       "      <th>pontos_relevantes</th>\n",
       "      <th>data_registro</th>\n",
       "    </tr>\n",
       "  </thead>\n",
       "  <tbody>\n",
       "    <tr>\n",
       "      <th>0</th>\n",
       "      <td>2</td>\n",
       "      <td>heraldo.as1@gmail.com</td>\n",
       "      <td>12606110781</td>\n",
       "      <td>1</td>\n",
       "      <td>2025-08-22</td>\n",
       "      <td>2025-08-21</td>\n",
       "      <td>rtert</td>\n",
       "      <td>wertertwer</td>\n",
       "      <td>wertwertwer</td>\n",
       "      <td>2025-08-17</td>\n",
       "    </tr>\n",
       "    <tr>\n",
       "      <th>1</th>\n",
       "      <td>3</td>\n",
       "      <td>heraldas2@gmail.com</td>\n",
       "      <td>22252797720</td>\n",
       "      <td>4</td>\n",
       "      <td>2025-08-13</td>\n",
       "      <td>2025-08-14</td>\n",
       "      <td>fwf</td>\n",
       "      <td>erwerw</td>\n",
       "      <td>rwerwe</td>\n",
       "      <td>2025-08-17</td>\n",
       "    </tr>\n",
       "    <tr>\n",
       "      <th>2</th>\n",
       "      <td>4</td>\n",
       "      <td>heraldo.as2@gmail.com</td>\n",
       "      <td>22252797720</td>\n",
       "      <td>4</td>\n",
       "      <td>2025-08-21</td>\n",
       "      <td>2025-08-15</td>\n",
       "      <td>Testes</td>\n",
       "      <td>testes</td>\n",
       "      <td>testes</td>\n",
       "      <td>2025-08-18</td>\n",
       "    </tr>\n",
       "    <tr>\n",
       "      <th>3</th>\n",
       "      <td>5</td>\n",
       "      <td>viniciuslo@gmail.com</td>\n",
       "      <td>118.082.087-81</td>\n",
       "      <td>5</td>\n",
       "      <td>2025-08-11</td>\n",
       "      <td>2025-08-22</td>\n",
       "      <td>VERIFICAÇÃO DE RELATÓRIO TÉCNICO DO TEATRO LAU...</td>\n",
       "      <td>ANÁLISE TÉCNICA DOS PROJETOS ESTRUTURAIS DO CI...</td>\n",
       "      <td>Identificação de não conformidades recorrentes...</td>\n",
       "      <td>2025-08-18</td>\n",
       "    </tr>\n",
       "    <tr>\n",
       "      <th>4</th>\n",
       "      <td>6</td>\n",
       "      <td>viniciuslo@gmail.com</td>\n",
       "      <td>118.082.087-81</td>\n",
       "      <td>0</td>\n",
       "      <td>2025-08-04</td>\n",
       "      <td>2025-08-08</td>\n",
       "      <td>dgthsertsenrte44nyaeynaeyerynarnaraeryrebaewb\\...</td>\n",
       "      <td>dgthsertsenrte44nyaeynaeyerynarnaraeryrebaewb\\...</td>\n",
       "      <td>dgthsertsenrte44nyaeynaeyerynarnaraeryrebaewb\\...</td>\n",
       "      <td>2025-08-18</td>\n",
       "    </tr>\n",
       "    <tr>\n",
       "      <th>5</th>\n",
       "      <td>7</td>\n",
       "      <td>viniciuslo@gmail.com</td>\n",
       "      <td>118.082.087-81</td>\n",
       "      <td>0</td>\n",
       "      <td>2025-08-04</td>\n",
       "      <td>2025-08-08</td>\n",
       "      <td>dgthsertsenrte44nyaeynaeyerynarnaraeryrebaewb\\...</td>\n",
       "      <td>dgthsertsenrte44nyaeynaeyerynarnaraeryrebaewb\\...</td>\n",
       "      <td>dgthsertsenrte44nyaeynaeyerynarnaraeryrebaewb\\...</td>\n",
       "      <td>2025-08-18</td>\n",
       "    </tr>\n",
       "    <tr>\n",
       "      <th>6</th>\n",
       "      <td>8</td>\n",
       "      <td>viniciuslo@gmail.com</td>\n",
       "      <td>118.082.087-81</td>\n",
       "      <td>0</td>\n",
       "      <td>2025-08-11</td>\n",
       "      <td>2025-08-15</td>\n",
       "      <td>dgthsertsenrte44nyaeynaeyerynarnaraeryrebaewb\\...</td>\n",
       "      <td>dgthsertsenrte44nyaeynaeyerynarnaraeryrebaewb\\...</td>\n",
       "      <td>dgthsertsenrte44nyaeynaeyerynarnaraeryrebaewb\\...</td>\n",
       "      <td>2025-08-18</td>\n",
       "    </tr>\n",
       "    <tr>\n",
       "      <th>7</th>\n",
       "      <td>9</td>\n",
       "      <td>viniciuslo@gmail.com</td>\n",
       "      <td>118.082.087-81</td>\n",
       "      <td>0</td>\n",
       "      <td>2025-08-11</td>\n",
       "      <td>2025-08-15</td>\n",
       "      <td>dgthsertsenrte44nyaeynaeyerynarnaraeryrebaewb\\...</td>\n",
       "      <td>dgthsertsenrte44nyaeynaeyerynarnaraeryrebaewb\\...</td>\n",
       "      <td>dgthsertsenrte44nyaeynaeyerynarnaraeryrebaewb\\...</td>\n",
       "      <td>2025-08-18</td>\n",
       "    </tr>\n",
       "    <tr>\n",
       "      <th>8</th>\n",
       "      <td>10</td>\n",
       "      <td>viniciuslo@gmail.com</td>\n",
       "      <td>118.082.087-81</td>\n",
       "      <td>0</td>\n",
       "      <td>2025-08-11</td>\n",
       "      <td>2025-08-15</td>\n",
       "      <td>dgthsertsenrte44nyaeynaeyerynarnaraeryrebaewb\\...</td>\n",
       "      <td>dgthsertsenrte44nyaeynaeyerynarnaraeryrebaewb\\...</td>\n",
       "      <td>dgthsertsenrte44nyaeynaeyerynarnaraeryrebaewb\\...</td>\n",
       "      <td>2025-08-18</td>\n",
       "    </tr>\n",
       "    <tr>\n",
       "      <th>9</th>\n",
       "      <td>11</td>\n",
       "      <td>viniciuslo@gmail.com</td>\n",
       "      <td>118.082.087-81</td>\n",
       "      <td>0</td>\n",
       "      <td>2025-08-11</td>\n",
       "      <td>2025-08-15</td>\n",
       "      <td>dgthsertsenrte44nyaeynaeyerynarnaraeryrebaewb\\...</td>\n",
       "      <td>dgthsertsenrte44nyaeynaeyerynarnaraeryrebaewb\\...</td>\n",
       "      <td>dgthsertsenrte44nyaeynaeyerynarnaraeryrebaewb\\...</td>\n",
       "      <td>2025-08-18</td>\n",
       "    </tr>\n",
       "  </tbody>\n",
       "</table>\n",
       "</div>"
      ],
      "text/plain": [
       "   id                   nome             cpf diretoria data_inicial  \\\n",
       "0   2  heraldo.as1@gmail.com     12606110781         1   2025-08-22   \n",
       "1   3    heraldas2@gmail.com     22252797720         4   2025-08-13   \n",
       "2   4  heraldo.as2@gmail.com     22252797720         4   2025-08-21   \n",
       "3   5   viniciuslo@gmail.com  118.082.087-81         5   2025-08-11   \n",
       "4   6   viniciuslo@gmail.com  118.082.087-81         0   2025-08-04   \n",
       "5   7   viniciuslo@gmail.com  118.082.087-81         0   2025-08-04   \n",
       "6   8   viniciuslo@gmail.com  118.082.087-81         0   2025-08-11   \n",
       "7   9   viniciuslo@gmail.com  118.082.087-81         0   2025-08-11   \n",
       "8  10   viniciuslo@gmail.com  118.082.087-81         0   2025-08-11   \n",
       "9  11   viniciuslo@gmail.com  118.082.087-81         0   2025-08-11   \n",
       "\n",
       "   data_final                              atividades_realizadas  \\\n",
       "0  2025-08-21                                              rtert   \n",
       "1  2025-08-14                                                fwf   \n",
       "2  2025-08-15                                             Testes   \n",
       "3  2025-08-22  VERIFICAÇÃO DE RELATÓRIO TÉCNICO DO TEATRO LAU...   \n",
       "4  2025-08-08  dgthsertsenrte44nyaeynaeyerynarnaraeryrebaewb\\...   \n",
       "5  2025-08-08  dgthsertsenrte44nyaeynaeyerynarnaraeryrebaewb\\...   \n",
       "6  2025-08-15  dgthsertsenrte44nyaeynaeyerynarnaraeryrebaewb\\...   \n",
       "7  2025-08-15  dgthsertsenrte44nyaeynaeyerynarnaraeryrebaewb\\...   \n",
       "8  2025-08-15  dgthsertsenrte44nyaeynaeyerynarnaraeryrebaewb\\...   \n",
       "9  2025-08-15  dgthsertsenrte44nyaeynaeyerynarnaraeryrebaewb\\...   \n",
       "\n",
       "                                atividades_previstas  \\\n",
       "0                                         wertertwer   \n",
       "1                                             erwerw   \n",
       "2                                             testes   \n",
       "3  ANÁLISE TÉCNICA DOS PROJETOS ESTRUTURAIS DO CI...   \n",
       "4  dgthsertsenrte44nyaeynaeyerynarnaraeryrebaewb\\...   \n",
       "5  dgthsertsenrte44nyaeynaeyerynarnaraeryrebaewb\\...   \n",
       "6  dgthsertsenrte44nyaeynaeyerynarnaraeryrebaewb\\...   \n",
       "7  dgthsertsenrte44nyaeynaeyerynarnaraeryrebaewb\\...   \n",
       "8  dgthsertsenrte44nyaeynaeyerynarnaraeryrebaewb\\...   \n",
       "9  dgthsertsenrte44nyaeynaeyerynarnaraeryrebaewb\\...   \n",
       "\n",
       "                                   pontos_relevantes data_registro  \n",
       "0                                        wertwertwer    2025-08-17  \n",
       "1                                             rwerwe    2025-08-17  \n",
       "2                                             testes    2025-08-18  \n",
       "3  Identificação de não conformidades recorrentes...    2025-08-18  \n",
       "4  dgthsertsenrte44nyaeynaeyerynarnaraeryrebaewb\\...    2025-08-18  \n",
       "5  dgthsertsenrte44nyaeynaeyerynarnaraeryrebaewb\\...    2025-08-18  \n",
       "6  dgthsertsenrte44nyaeynaeyerynarnaraeryrebaewb\\...    2025-08-18  \n",
       "7  dgthsertsenrte44nyaeynaeyerynarnaraeryrebaewb\\...    2025-08-18  \n",
       "8  dgthsertsenrte44nyaeynaeyerynarnaraeryrebaewb\\...    2025-08-18  \n",
       "9  dgthsertsenrte44nyaeynaeyerynarnaraeryrebaewb\\...    2025-08-18  "
      ]
     },
     "execution_count": 105,
     "metadata": {},
     "output_type": "execute_result"
    }
   ],
   "source": [
    "df_acompanhamento_atividades.head(10)"
   ]
  },
  {
   "cell_type": "code",
   "execution_count": null,
   "id": "844718c3-2f7a-4a6b-852c-4ed678d7cf1d",
   "metadata": {},
   "outputs": [],
   "source": []
  }
 ],
 "metadata": {
  "kernelspec": {
   "display_name": "Python 3 (ipykernel)",
   "language": "python",
   "name": "python3"
  },
  "language_info": {
   "codemirror_mode": {
    "name": "ipython",
    "version": 3
   },
   "file_extension": ".py",
   "mimetype": "text/x-python",
   "name": "python",
   "nbconvert_exporter": "python",
   "pygments_lexer": "ipython3",
   "version": "3.12.3"
  }
 },
 "nbformat": 4,
 "nbformat_minor": 5
}
