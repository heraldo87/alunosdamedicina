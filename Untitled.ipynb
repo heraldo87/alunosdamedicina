{
 "cells": [
  {
   "cell_type": "code",
   "execution_count": 6,
   "id": "3f20dc24-f466-4d2f-8eb6-a2c0a2c8ad1b",
   "metadata": {},
   "outputs": [],
   "source": []
  },
  {
   "cell_type": "code",
   "execution_count": 10,
   "id": "838fbed7-b61f-4b7a-8125-9909bc3e34f0",
   "metadata": {},
   "outputs": [],
   "source": [
    "# DECLARAÇÃO DE VARIÁVEIS GLOBAIS\n",
    "x = 2\n",
    "y = 3"
   ]
  },
  {
   "cell_type": "code",
   "execution_count": 11,
   "id": "a9ad78b1-ae28-4a18-9514-e15a9fde6aca",
   "metadata": {},
   "outputs": [],
   "source": [
    "# FUNÇÃO DE SOMAR\n",
    "def somar(x, y):\n",
    "    total = x + y\n",
    "    return total\n",
    "    print(total)"
   ]
  },
  {
   "cell_type": "code",
   "execution_count": 14,
   "id": "b5575774-8cf4-4fb9-ac0e-cda62d884177",
   "metadata": {},
   "outputs": [
    {
     "data": {
      "text/plain": [
       "6"
      ]
     },
     "execution_count": 14,
     "metadata": {},
     "output_type": "execute_result"
    }
   ],
   "source": [
    "somar(3, 3)"
   ]
  },
  {
   "cell_type": "code",
   "execution_count": null,
   "id": "e3073eb6-dc39-474a-9954-5f8ec3651329",
   "metadata": {},
   "outputs": [],
   "source": []
  }
 ],
 "metadata": {
  "kernelspec": {
   "display_name": "Python 3 (ipykernel)",
   "language": "python",
   "name": "python3"
  },
  "language_info": {
   "codemirror_mode": {
    "name": "ipython",
    "version": 3
   },
   "file_extension": ".py",
   "mimetype": "text/x-python",
   "name": "python",
   "nbconvert_exporter": "python",
   "pygments_lexer": "ipython3",
   "version": "3.12.3"
  }
 },
 "nbformat": 4,
 "nbformat_minor": 5
}
